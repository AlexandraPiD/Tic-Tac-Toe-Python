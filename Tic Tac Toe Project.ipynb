{
 "cells": [
  {
   "cell_type": "code",
   "execution_count": 10,
   "metadata": {},
   "outputs": [],
   "source": [
    "from IPython.display import clear_output\n",
    "\n",
    "def display_board(board):\n",
    "    print(board[7], '|', board[8], '|', board[9])\n",
    "    print('----------')\n",
    "    print(board[4], '|', board[5], '|', board[6])\n",
    "    print('----------')\n",
    "    print(board[1], '|', board[2], '|', board[3])"
   ]
  },
  {
   "cell_type": "code",
   "execution_count": 11,
   "metadata": {},
   "outputs": [
    {
     "name": "stdout",
     "output_type": "stream",
     "text": [
      "  |   |  \n",
      "----------\n",
      "  |   |  \n",
      "----------\n",
      "  |   |  \n"
     ]
    }
   ],
   "source": [
    "#Testing the board\n",
    "board = ['*', ' ', ' ', ' ', ' ', ' ', ' ', ' ', ' ', ' ',]\n",
    "display_board(board)"
   ]
  },
  {
   "cell_type": "code",
   "execution_count": 46,
   "metadata": {},
   "outputs": [],
   "source": [
    "def player_letter():\n",
    "\n",
    "    letter = 'Is this the real life?'\n",
    "    accepted_letter = ['X', 'O']\n",
    "\n",
    "    while letter.upper() not in accepted_letter:\n",
    "        letter = input('Player 1: Would you like to be X or O?')\n",
    "\n",
    "        if letter.upper() not in accepted_letter:\n",
    "            clear_output()\n",
    "            print('Please enter a valid answer (X/O).')\n",
    "    if letter == 'X':\n",
    "        return ('X', 'O')\n",
    "    else:\n",
    "        return ('O', 'X')\n",
    "    \n",
    "           \n",
    "    \n"
   ]
  },
  {
   "cell_type": "code",
   "execution_count": 3,
   "metadata": {},
   "outputs": [
    {
     "data": {
      "text/plain": [
       "('O', 'X')"
      ]
     },
     "execution_count": 3,
     "metadata": {},
     "output_type": "execute_result"
    }
   ],
   "source": [
    "player_letter()"
   ]
  },
  {
   "cell_type": "code",
   "execution_count": 13,
   "metadata": {},
   "outputs": [],
   "source": [
    "def board_input(board2, letter2, position):\n",
    "    \n",
    "    board2[position] = letter2"
   ]
  },
  {
   "cell_type": "code",
   "execution_count": 36,
   "metadata": {},
   "outputs": [
    {
     "name": "stdout",
     "output_type": "stream",
     "text": [
      "  |   |  \n",
      "----------\n",
      "  |   |  \n",
      "----------\n",
      "X |   |  \n"
     ]
    }
   ],
   "source": [
    "board_input(board, 'X', 1)\n",
    "\n",
    "display_board(board)\n"
   ]
  },
  {
   "cell_type": "code",
   "execution_count": 15,
   "metadata": {},
   "outputs": [],
   "source": [
    "def win_check(board, letter):\n",
    "    if board[1] == letter and board[2] == letter and board[3] == letter:\n",
    "        return True\n",
    "    elif board[4] == letter and board[5] == letter and board[6] == letter:\n",
    "        return True\n",
    "    elif board[7] == letter and board[8] == letter and board[9] == letter:\n",
    "        return True\n",
    "    elif board[1] == letter and board[4] == letter and board[7] == letter:\n",
    "        return True\n",
    "    elif board[2] == letter and board[5] == letter and board[8] == letter:\n",
    "        return True\n",
    "    elif board[3] == letter and board[6] == letter and board[9] == letter:\n",
    "        return True\n",
    "    elif board[1] == letter and board[5] == letter and board[9] == letter:\n",
    "        return True\n",
    "    elif board[3] == letter and board[5] == letter and board[7] == letter:\n",
    "        return True\n",
    "    else:\n",
    "        return False"
   ]
  },
  {
   "cell_type": "code",
   "execution_count": 16,
   "metadata": {},
   "outputs": [
    {
     "data": {
      "text/plain": [
       "False"
      ]
     },
     "execution_count": 16,
     "metadata": {},
     "output_type": "execute_result"
    }
   ],
   "source": [
    "win_check(board, 'X')"
   ]
  },
  {
   "cell_type": "code",
   "execution_count": 17,
   "metadata": {},
   "outputs": [],
   "source": [
    "import random\n",
    "\n",
    "def startingplayer():\n",
    "\n",
    "    if random.randint(1, 2) == 1:\n",
    "        return 'Player 1'\n",
    "    else:\n",
    "        return 'Player 2'\n"
   ]
  },
  {
   "cell_type": "code",
   "execution_count": 23,
   "metadata": {},
   "outputs": [
    {
     "data": {
      "text/plain": [
       "'Player 1'"
      ]
     },
     "execution_count": 23,
     "metadata": {},
     "output_type": "execute_result"
    }
   ],
   "source": [
    "startingplayer()"
   ]
  },
  {
   "cell_type": "code",
   "execution_count": 24,
   "metadata": {},
   "outputs": [],
   "source": [
    "def space_check(place, board):\n",
    "    \n",
    "    if board[place] == ' ':\n",
    "        return True\n",
    "    \n",
    "    return False\n"
   ]
  },
  {
   "cell_type": "code",
   "execution_count": 25,
   "metadata": {},
   "outputs": [
    {
     "data": {
      "text/plain": [
       "True"
      ]
     },
     "execution_count": 25,
     "metadata": {},
     "output_type": "execute_result"
    }
   ],
   "source": [
    "space_check(2, board)"
   ]
  },
  {
   "cell_type": "code",
   "execution_count": 26,
   "metadata": {},
   "outputs": [],
   "source": [
    "def full_board_check(board):\n",
    "    for square2 in board[1:]:\n",
    "        if square2 == ' ':\n",
    "            return False\n",
    "        \n",
    "    return True\n"
   ]
  },
  {
   "cell_type": "code",
   "execution_count": 28,
   "metadata": {},
   "outputs": [
    {
     "data": {
      "text/plain": [
       "False"
      ]
     },
     "execution_count": 28,
     "metadata": {},
     "output_type": "execute_result"
    }
   ],
   "source": [
    "full_board_check(board)"
   ]
  },
  {
   "cell_type": "code",
   "execution_count": 29,
   "metadata": {},
   "outputs": [],
   "source": [
    "def player_position(board):\n",
    "\n",
    "    try:\n",
    "        position = 'Is this just fantasy?'\n",
    "\n",
    "        possible_p = [1 ,2 ,3, 4, 5, 6, 7, 8, 9]\n",
    "\n",
    "        while position not in possible_p or not space_check(position, board) == True:\n",
    "            position = int(input('Please enter a number from 1 to 9: '))\n",
    "            \n",
    "        return position\n",
    "\n",
    "    except:\n",
    "        print('Please enter a valid number (1-9).')"
   ]
  },
  {
   "cell_type": "code",
   "execution_count": 31,
   "metadata": {},
   "outputs": [
    {
     "name": "stdout",
     "output_type": "stream",
     "text": [
      "Please enter a valid number (1-9).\n"
     ]
    }
   ],
   "source": [
    "player_position(board)"
   ]
  },
  {
   "cell_type": "code",
   "execution_count": 32,
   "metadata": {},
   "outputs": [],
   "source": [
    "def replay():\n",
    "\n",
    "    answer = 'Caught in a landslide'\n",
    "    accepted_answer = ['yes', 'no']\n",
    "\n",
    "    while answer not in accepted_answer:\n",
    "        answer = input('Do you want to play again? yes/no')\n",
    "        if answer.lower() == 'yes':\n",
    "            return True\n",
    "        else:\n",
    "            return False\n",
    "        "
   ]
  },
  {
   "cell_type": "code",
   "execution_count": 33,
   "metadata": {},
   "outputs": [
    {
     "data": {
      "text/plain": [
       "False"
      ]
     },
     "execution_count": 33,
     "metadata": {},
     "output_type": "execute_result"
    }
   ],
   "source": [
    "replay()"
   ]
  },
  {
   "cell_type": "code",
   "execution_count": 57,
   "metadata": {},
   "outputs": [
    {
     "name": "stdout",
     "output_type": "stream",
     "text": [
      "O | X | O\n",
      "----------\n",
      "  | X |  \n",
      "----------\n",
      "O | X |  \n",
      "Player 1 has won the game!\n",
      "Thank you for playing!\n"
     ]
    }
   ],
   "source": [
    "print('Welcome to Tic Tac Toe!')\n",
    "\n",
    "while True:\n",
    "    new_board = [' ']*10\n",
    "    player_1, player_2 = player_letter()\n",
    "    turn = startingplayer()\n",
    "    print(f'{turn} will go first.')\n",
    "\n",
    "    play_game = input('Are you ready to play? yes/no')\n",
    "\n",
    "    if play_game.lower() == 'yes':\n",
    "        game_on = True\n",
    "    else:\n",
    "        game_on = False\n",
    "\n",
    "\n",
    "    while game_on:\n",
    "\n",
    "        if turn == 'Player 1':\n",
    "            \n",
    "            clear_output()\n",
    "            display_board(new_board)\n",
    "            position_1 = player_position(new_board)\n",
    "            board_input(new_board, player_1, position_1)\n",
    "\n",
    "            if win_check(new_board, player_1):\n",
    "                clear_output()\n",
    "                display_board(new_board)\n",
    "                print('Player 1 has won the game!')\n",
    "                game_on = False\n",
    "            else:\n",
    "                if full_board_check(new_board):\n",
    "                    display_board(new_board)\n",
    "                    print('The game is a tie!')\n",
    "                    break\n",
    "                else:\n",
    "                    turn = 'Player 2'\n",
    "\n",
    "        else:\n",
    "            clear_output()\n",
    "            display_board(new_board)\n",
    "            position_2 = player_position(new_board)\n",
    "            board_input(new_board, player_2, position_2)\n",
    "\n",
    "            if win_check(new_board, player_2):\n",
    "                clear_output()\n",
    "                display_board(new_board)\n",
    "                print('Player 2 has won the game!')\n",
    "                game_on = False\n",
    "            else:\n",
    "                if full_board_check(new_board):\n",
    "                    clear_output()\n",
    "                    display_board(new_board)\n",
    "                    print('The game is a tie!')\n",
    "                    break\n",
    "                else:\n",
    "                    turn = 'Player 1'\n",
    "\n",
    "    if replay() == False:\n",
    "        print('Thank you for playing!')\n",
    "        break\n"
   ]
  },
  {
   "cell_type": "code",
   "execution_count": null,
   "metadata": {},
   "outputs": [],
   "source": []
  },
  {
   "cell_type": "code",
   "execution_count": null,
   "metadata": {},
   "outputs": [],
   "source": []
  }
 ],
 "metadata": {
  "kernelspec": {
   "display_name": "base",
   "language": "python",
   "name": "python3"
  },
  "language_info": {
   "codemirror_mode": {
    "name": "ipython",
    "version": 3
   },
   "file_extension": ".py",
   "mimetype": "text/x-python",
   "name": "python",
   "nbconvert_exporter": "python",
   "pygments_lexer": "ipython3",
   "version": "3.11.4"
  }
 },
 "nbformat": 4,
 "nbformat_minor": 2
}
